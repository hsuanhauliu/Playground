{
 "cells": [
  {
   "cell_type": "markdown",
   "metadata": {},
   "source": [
    "# IceCream\n",
    "\n",
    "IceCream is a Python library for debugging. This notebook demonstrates how this tool can help developers debugging.\n",
    "\n",
    "Github: https://github.com/gruns/icecream"
   ]
  },
  {
   "cell_type": "code",
   "execution_count": 1,
   "metadata": {
    "scrolled": false
   },
   "outputs": [
    {
     "name": "stdout",
     "output_type": "stream",
     "text": [
      "Collecting icecream\n",
      "  Using cached icecream-2.1.0-py2.py3-none-any.whl (8.0 kB)\n",
      "Collecting executing>=0.3.1\n",
      "  Using cached executing-0.5.4-py3-none-any.whl (12 kB)\n",
      "Collecting asttokens>=2.0.1\n",
      "  Using cached asttokens-2.0.4-py2.py3-none-any.whl (20 kB)\n",
      "Requirement already satisfied: pygments>=2.2.0 in /home/loki/.local/lib/python3.7/site-packages (from icecream) (2.6.1)\n",
      "Requirement already satisfied: colorama>=0.3.9 in /home/loki/anaconda3/lib/python3.7/site-packages (from icecream) (0.4.3)\n",
      "Requirement already satisfied: six in /home/loki/.local/lib/python3.7/site-packages (from asttokens>=2.0.1->icecream) (1.15.0)\n",
      "Installing collected packages: executing, asttokens, icecream\n",
      "Successfully installed asttokens-2.0.4 executing-0.5.4 icecream-2.1.0\n"
     ]
    }
   ],
   "source": [
    "!pip install icecream\n",
    "from icecream import ic"
   ]
  },
  {
   "cell_type": "code",
   "execution_count": 9,
   "metadata": {},
   "outputs": [
    {
     "name": "stderr",
     "output_type": "stream",
     "text": [
      "ic| test_str: 'some random string'\n",
      "ic| test_dict: {'key': 5}\n",
      "ic| test_tuple: (10, 3, 9)\n",
      "ic| test_list: [21, 2, 'nested_str']\n"
     ]
    }
   ],
   "source": [
    "test_str = 'some random string'\n",
    "test_dict = {'key': 5}\n",
    "test_tuple = (10, 3, 9)\n",
    "test_list = [21, 2, 'nested_str']\n",
    "\n",
    "ic__str_output = ic(test_str)\n",
    "ic__dict_output = ic(test_dict)\n",
    "ic__tuple_output = ic(test_tuple)\n",
    "ic__list_output = ic(test_list)"
   ]
  },
  {
   "cell_type": "markdown",
   "metadata": {},
   "source": [
    "iceCream also returns the input arguments."
   ]
  },
  {
   "cell_type": "code",
   "execution_count": 14,
   "metadata": {},
   "outputs": [
    {
     "name": "stdout",
     "output_type": "stream",
     "text": [
      "some random string <class 'str'>\n",
      "{'key': 5} <class 'dict'>\n",
      "(10, 3, 9) <class 'tuple'>\n",
      "[21, 2, 'nested_str'] <class 'list'>\n"
     ]
    }
   ],
   "source": [
    "print(ic__str_output, type(ic__str_output))\n",
    "print(ic__dict_output, type(ic__dict_output))\n",
    "print(ic__tuple_output, type(ic__tuple_output))\n",
    "print(ic__list_output, type(ic__list_output))"
   ]
  },
  {
   "cell_type": "markdown",
   "metadata": {},
   "source": [
    "Custom class and function support."
   ]
  },
  {
   "cell_type": "code",
   "execution_count": 15,
   "metadata": {},
   "outputs": [
    {
     "name": "stderr",
     "output_type": "stream",
     "text": [
      "ic| Test.class_data: 'hi'\n",
      "ic| t.my_data: 10\n",
      "ic| t.double_my_data(): 20\n",
      "ic| double(10): 20\n"
     ]
    },
    {
     "data": {
      "text/plain": [
       "20"
      ]
     },
     "execution_count": 15,
     "metadata": {},
     "output_type": "execute_result"
    }
   ],
   "source": [
    "class Test:\n",
    "    class_data = 'hi'\n",
    "    \n",
    "    def __init__(self):\n",
    "        self.my_data = 10\n",
    "        \n",
    "    def double_my_data(self):\n",
    "        return 2 * self.my_data\n",
    "\n",
    "def double(num):\n",
    "    return num * 2\n",
    "\n",
    "t = Test()\n",
    "ic(Test.class_data)\n",
    "ic(t.my_data)\n",
    "ic(t.double_my_data())\n",
    "ic(double(10))"
   ]
  },
  {
   "cell_type": "markdown",
   "metadata": {},
   "source": [
    "We can enable or disable the output dynamically."
   ]
  },
  {
   "cell_type": "code",
   "execution_count": 17,
   "metadata": {},
   "outputs": [
    {
     "name": "stderr",
     "output_type": "stream",
     "text": [
      "ic| 1\n",
      "ic| 3\n",
      "ic| temp_output: 2.5\n"
     ]
    },
    {
     "data": {
      "text/plain": [
       "2.5"
      ]
     },
     "execution_count": 17,
     "metadata": {},
     "output_type": "execute_result"
    }
   ],
   "source": [
    "ic(1)\n",
    "\n",
    "ic.disable()\n",
    "ic(2)\n",
    "temp_output = ic(2.5)\n",
    "\n",
    "ic.enable()\n",
    "ic(3)\n",
    "ic(temp_output)"
   ]
  },
  {
   "cell_type": "markdown",
   "metadata": {},
   "source": [
    "iceCream also plays well with the loggin module."
   ]
  },
  {
   "cell_type": "code",
   "execution_count": 25,
   "metadata": {},
   "outputs": [
    {
     "name": "stderr",
     "output_type": "stream",
     "text": [
      "DEBUG:root:ic| 'iceCream calling outputFunc'\n",
      "INFO:root:this is normal logging output\n"
     ]
    }
   ],
   "source": [
    "import logging\n",
    "\n",
    "logging.basicConfig()\n",
    "logger.setLevel(logging.DEBUG)\n",
    "logger = logging.getLogger()\n",
    "\n",
    "ic.configureOutput(outputFunction=logger.debug)\n",
    "ic('iceCream calling outputFunc')\n",
    "logger.info('this is normal logging output')"
   ]
  },
  {
   "cell_type": "markdown",
   "metadata": {},
   "source": [
    "## Sample use case:"
   ]
  },
  {
   "cell_type": "code",
   "execution_count": 29,
   "metadata": {},
   "outputs": [
    {
     "name": "stderr",
     "output_type": "stream",
     "text": [
      "DEBUG:root:ic| output: 50\n",
      "DEBUG:root:ic| output: 70\n",
      "DEBUG:root:ic| output: 2.3333333333333335\n",
      "DEBUG:root:ic| fancy_math(5): 2.3333333333333335\n"
     ]
    },
    {
     "data": {
      "text/plain": [
       "2.3333333333333335"
      ]
     },
     "execution_count": 29,
     "metadata": {},
     "output_type": "execute_result"
    }
   ],
   "source": [
    "# read debug flag from somewhere...\n",
    "debug_mode = True # change this flag to see how the outp\n",
    "ic.disable()\n",
    "if debug_mode:\n",
    "    logger.setLevel(logging.DEBUG)\n",
    "    ic.enable()\n",
    "\n",
    "def fancy_math(num):\n",
    "    output = num * 10\n",
    "    ic(output)\n",
    "    \n",
    "    output = output + 20\n",
    "    ic(output)\n",
    "    \n",
    "    output = output / 30\n",
    "    ic(output)\n",
    "    return output\n",
    "\n",
    "ic(fancy_math(5))"
   ]
  },
  {
   "cell_type": "code",
   "execution_count": null,
   "metadata": {},
   "outputs": [],
   "source": []
  }
 ],
 "metadata": {
  "kernelspec": {
   "display_name": "icecream",
   "language": "python",
   "name": "icecream"
  },
  "language_info": {
   "codemirror_mode": {
    "name": "ipython",
    "version": 3
   },
   "file_extension": ".py",
   "mimetype": "text/x-python",
   "name": "python",
   "nbconvert_exporter": "python",
   "pygments_lexer": "ipython3",
   "version": "3.7.6"
  }
 },
 "nbformat": 4,
 "nbformat_minor": 4
}
